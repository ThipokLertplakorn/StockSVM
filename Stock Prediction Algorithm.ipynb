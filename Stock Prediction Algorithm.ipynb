{
 "cells": [
  {
   "cell_type": "code",
   "execution_count": 1,
   "metadata": {
    "collapsed": false
   },
   "outputs": [
    {
     "name": "stderr",
     "output_type": "stream",
     "text": [
      "C:\\Users\\Thipok\\Anaconda2\\lib\\site-packages\\sklearn\\cross_validation.py:44: DeprecationWarning: This module was deprecated in version 0.18 in favor of the model_selection module into which all the refactored classes and functions are moved. Also note that the interface of the new CV iterators are different from that of this module. This module will be removed in 0.20.\n",
      "  \"This module will be removed in 0.20.\", DeprecationWarning)\n"
     ]
    }
   ],
   "source": [
    "import sklearn as sk\n",
    "from sklearn.decomposition import PCA\n",
    "from statsmodels.formula.api import logit, glm, ols\n",
    "from sklearn.cross_validation import train_test_split\n",
    "from sklearn.ensemble import RandomForestClassifier\n",
    "from sklearn.ensemble import AdaBoostClassifier\n",
    "from sklearn.model_selection import GridSearchCV\n",
    "import numpy as np\n",
    "import scipy as sp\n",
    "import matplotlib as mpl\n",
    "import matplotlib.cm as cm\n",
    "import matplotlib.pyplot as plt\n",
    "import pandas as pd\n",
    "import requests\n",
    "import json\n",
    "import urllib2\n",
    "from sklearn import svm"
   ]
  },
  {
   "cell_type": "markdown",
   "metadata": {},
   "source": [
    "# Initializing Functions"
   ]
  },
  {
   "cell_type": "code",
   "execution_count": 2,
   "metadata": {
    "collapsed": false
   },
   "outputs": [],
   "source": [
    "def queryURL(exchange, quote, indicator,startDate,endDate):\n",
    "    return \"https://api.stockvider.com/data/\" + exchange + \"/\" + quote + \"/\" + indicator + \"?\" + \"start_date=\" + startDate + \"&end_date=\" + endDate + '&api_key=c24ea61089ea7ec6001b'\n",
    "\n",
    "def queryURLsma(exchange, quote,startDate,endDate,smaLength):\n",
    "    return \"https://api.stockvider.com/data/\" + exchange + \"/\" + quote + \"/\" + \"SMA\" + \"?\" + \"start_date=\" + startDate + \"&end_date=\" + endDate +'&time_period = '+ smaLength + '&api_key=c24ea61089ea7ec6001b'\n",
    "\n",
    "def getJSON(URL):\n",
    "    temp = requests.get(URL)\n",
    "    return temp\n",
    "\n",
    "def parseJSON(response):\n",
    "    temp2 = json.loads(response.text)\n",
    "    return temp2\n",
    "\n",
    "def getClose(exchange,quote,startDate = '2005-01-01', endDate = '2017-01-01'):\n",
    "    link = queryURL(exchange,quote,'EOD',startDate,endDate)\n",
    "    response = getJSON(link)\n",
    "    parsed_response = parseJSON(response)\n",
    "    df = pd.DataFrame.from_dict(parsed_response['Dataset'],orient='index')\n",
    "    df.columns.name = 'Dates'\n",
    "    del df['HIGH']\n",
    "    del df['OPEN']\n",
    "    del df['LOW']\n",
    "    return df\n",
    "\n",
    "def getEverything(indicator, exchange ,quote ,startDate = '2005-01-01', endDate = '2017-01-01'):\n",
    "    link = queryURL(exchange,quote,indicator,startDate,endDate)\n",
    "    response = getJSON(link)\n",
    "    parsed_response = parseJSON(response)\n",
    "    df = pd.DataFrame.from_dict(parsed_response['Dataset'],orient='index')\n",
    "    df.columns.name = 'Dates'\n",
    "    return df\n",
    "\n",
    "def getSMA(exchange ,quote,smaLength,startDate = '2005-01-01', endDate = '2017-01-01'):\n",
    "    link = queryURLsma(exchange, quote,startDate,endDate,smaLength)\n",
    "    response = getJSON(link)\n",
    "    parsed_response = parseJSON(response)\n",
    "    df = pd.DataFrame.from_dict(parsed_response['Dataset'],orient='index')\n",
    "    df.columns.name = 'Dates'\n",
    "    return df\n",
    "\n",
    "def dfEveryIndicator(indicators,exchange,quote,smaLength,startDate = '2005-01-01', endDate = '2017-01-01'):\n",
    "    df_master = pd.DataFrame()\n",
    "    for i in indicators:\n",
    "        df_temp = getEverything(i,exchange,quote,startDate, endDate)\n",
    "        df_master = pd.concat([df_master,df_temp],axis = 1)\n",
    "    df_master = pd.concat([getClose(exchange,quote,startDate, endDate),df_master],axis = 1)\n",
    "    df_master = pd.concat([getSMA(exchange,quote,smaLength,startDate,endDate),df_master],axis = 1)\n",
    "    return df_master\n",
    "\n",
    "def makeSET(df,predictionLength):\n",
    "    y_set = []\n",
    "    for i in range(predictionLength,len(df)):\n",
    "        if np.mean([df.iloc[i-j].CLOSE for j in range(1,predictionLength)]) > df.iloc[i-predictionLength].CLOSE:\n",
    "            y_set.append(1)\n",
    "        else:\n",
    "            y_set.append(-1)\n",
    "    df2 = df.iloc[:len(df)-predictionLength]\n",
    "    return [df2.iloc[:,3:],y_set]\n",
    "\n",
    "def standardize(df):\n",
    "    df_norm = (df - df.mean())/df.std()\n",
    "    return df_norm\n",
    "\n",
    "def dim_reduction(data,dimensions):\n",
    "    pca = PCA(n_components=dimensions)\n",
    "    pca.fit(data)\n",
    "    return pca\n",
    "\n",
    "def toDF(data):\n",
    "    #Takes data from PCA and converts to Data Frame\n",
    "    df = pd.DataFrame(data = data)\n",
    "    return df\n",
    "    "
   ]
  },
  {
   "cell_type": "code",
   "execution_count": 3,
   "metadata": {
    "collapsed": true
   },
   "outputs": [],
   "source": [
    "indicators = ['MACD','RSI','MFI','MOM','WILLR','STOCH',\n",
    "              'ROCR','ADX','ATR','CCI','TRIX','OBV']"
   ]
  },
  {
   "cell_type": "code",
   "execution_count": 4,
   "metadata": {
    "collapsed": false,
    "scrolled": true
   },
   "outputs": [],
   "source": [
    "df = dfEveryIndicator(indicators,'NYSE','MMM','7',startDate = '2000-01-01')\n",
    "x_set, y_set = makeSET(df,7)\n",
    "x_standardized = standardize(x_set)\n",
    "x_train,x_test,y_train,y_test = train_test_split(x_standardized,y_set,test_size = 0.1)"
   ]
  },
  {
   "cell_type": "markdown",
   "metadata": {},
   "source": [
    "# SVM with RBF kernel (no PCA)"
   ]
  },
  {
   "cell_type": "code",
   "execution_count": 5,
   "metadata": {
    "collapsed": false
   },
   "outputs": [
    {
     "name": "stdout",
     "output_type": "stream",
     "text": [
      "{'kernel': 'rbf', 'C': 8, 'gamma': 1}\n",
      "0.759906759907\n"
     ]
    }
   ],
   "source": [
    "svm_no_pca = svm.SVC()\n",
    "parameters_2 = {'C':[2**i for i in range(-5,5,2)],'gamma':[2**i for i in range(-11,5)],'kernel':['rbf']}\n",
    "gs_2 = GridSearchCV(svm_no_pca, param_grid= parameters_2,cv = 5, n_jobs = 4)\n",
    "gs_2.fit(x_train,y_train)\n",
    "print gs_2.best_params_"
   ]
  },
  {
   "cell_type": "code",
   "execution_count": 12,
   "metadata": {
    "collapsed": false
   },
   "outputs": [
    {
     "name": "stdout",
     "output_type": "stream",
     "text": [
      "Accuracy on training set:  0.9997406639\n",
      "Accuracy on testing set:  0.759906759907\n"
     ]
    }
   ],
   "source": [
    "#print gs_2.grid_scores_\n",
    "train_acc = gs_2.score(x_train,y_train)\n",
    "test_acc = gs_2.score(x_test,y_test)\n",
    "print 'Accuracy on training set: ', gs_2.score(x_train,y_train)\n",
    "print 'Accuracy on testing set: ', test_acc"
   ]
  },
  {
   "cell_type": "markdown",
   "metadata": {},
   "source": [
    "# Random Forest"
   ]
  },
  {
   "cell_type": "code",
   "execution_count": 80,
   "metadata": {
    "collapsed": false
   },
   "outputs": [
    {
     "name": "stdout",
     "output_type": "stream",
     "text": [
      "{'max_features': 10, 'n_estimators': 500}\n",
      "0.797202797203\n"
     ]
    }
   ],
   "source": [
    "rfc = RandomForestClassifier()\n",
    "parameters_3 = {'n_estimators':[10,100,500],'max_features':[5,10,15]}\n",
    "gs_3 = GridSearchCV(rfc, param_grid = parameters_3, cv = 5, n_jobs = 4)\n",
    "gs_3.fit(x_train,y_train)\n",
    "print gs_3.best_params_\n",
    "print gs_3.score(x_test,y_test)\n",
    "                                                            \n"
   ]
  },
  {
   "cell_type": "code",
   "execution_count": 81,
   "metadata": {
    "collapsed": false
   },
   "outputs": [
    {
     "name": "stdout",
     "output_type": "stream",
     "text": [
      "[mean: 0.67972, std: 0.01963, params: {'max_features': 5, 'n_estimators': 10}, mean: 0.74896, std: 0.01358, params: {'max_features': 5, 'n_estimators': 100}, mean: 0.75700, std: 0.01181, params: {'max_features': 5, 'n_estimators': 500}, mean: 0.69398, std: 0.01171, params: {'max_features': 10, 'n_estimators': 10}, mean: 0.75545, std: 0.01466, params: {'max_features': 10, 'n_estimators': 100}, mean: 0.76608, std: 0.01499, params: {'max_features': 10, 'n_estimators': 500}, mean: 0.69891, std: 0.02495, params: {'max_features': 15, 'n_estimators': 10}, mean: 0.75182, std: 0.00453, params: {'max_features': 15, 'n_estimators': 100}, mean: 0.76089, std: 0.01331, params: {'max_features': 15, 'n_estimators': 500}]\n"
     ]
    },
    {
     "name": "stderr",
     "output_type": "stream",
     "text": [
      "C:\\Users\\Thipok\\Anaconda2\\lib\\site-packages\\sklearn\\model_selection\\_search.py:667: DeprecationWarning: The grid_scores_ attribute was deprecated in version 0.18 in favor of the more elaborate cv_results_ attribute. The grid_scores_ attribute will not be available from 0.20\n",
      "  DeprecationWarning)\n"
     ]
    }
   ],
   "source": [
    "print gs_3.grid_scores_"
   ]
  },
  {
   "cell_type": "markdown",
   "metadata": {},
   "source": [
    "# SVM with RBF kernel (with PCA) "
   ]
  },
  {
   "cell_type": "code",
   "execution_count": 1236,
   "metadata": {
    "collapsed": false
   },
   "outputs": [
    {
     "name": "stdout",
     "output_type": "stream",
     "text": [
      "{'kernel': 'rbf', 'C': 0.125, 'gamma': 1}\n",
      "0.561771561772\n"
     ]
    }
   ],
   "source": [
    "svm_pca = svm.SVC()\n",
    "parameters_3 = {'C':[2**i for i in range(-5,5,2)],'gamma':[2**i for i in range(-11,5)], 'kernel':['rbf']}\n",
    "gs_3 = GridSearchCV(svm_pca, param_grid = parameters_3, cv = 3)\n",
    "gs_3.fit(x_train_transformed, y_train)\n",
    "print gs_3.best_params_\n",
    "print gs_3.score(x_test_transformed, y_test)"
   ]
  }
 ],
 "metadata": {
  "kernelspec": {
   "display_name": "Python 2",
   "language": "python",
   "name": "python2"
  },
  "language_info": {
   "codemirror_mode": {
    "name": "ipython",
    "version": 2
   },
   "file_extension": ".py",
   "mimetype": "text/x-python",
   "name": "python",
   "nbconvert_exporter": "python",
   "pygments_lexer": "ipython2",
   "version": "2.7.13"
  }
 },
 "nbformat": 4,
 "nbformat_minor": 2
}
